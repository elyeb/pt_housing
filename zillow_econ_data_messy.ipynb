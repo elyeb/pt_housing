{
 "cells": [
  {
   "cell_type": "markdown",
   "id": "09b4d529",
   "metadata": {},
   "source": [
    "Explore data from https://documenter.getpostman.com/view/9197254/UVsFz93V"
   ]
  },
  {
   "cell_type": "code",
   "execution_count": 2,
   "id": "2885a7cb",
   "metadata": {},
   "outputs": [],
   "source": [
    "\n",
    "import requests\n",
    "import config\n",
    "\n",
    "api_key = config.zillow_api_key\n",
    "\n",
    "\n",
    "url = \"https://api.bridgedataoutput.com/api/v2/zgecon/region?access_token=•••••••&regionCity=Seattle\"\n",
    "\n",
    "payload = \"\"\n",
    "headers = {}\n",
    "\n",
    "response = requests.request(\"GET\", url, headers=headers, data=payload)\n",
    "\n",
    "print(response.text)"
   ]
  }
 ],
 "metadata": {
  "kernelspec": {
   "display_name": "Python 3 (ipykernel)",
   "language": "python",
   "name": "python3"
  },
  "language_info": {
   "codemirror_mode": {
    "name": "ipython",
    "version": 3
   },
   "file_extension": ".py",
   "mimetype": "text/x-python",
   "name": "python",
   "nbconvert_exporter": "python",
   "pygments_lexer": "ipython3",
   "version": "3.9.0"
  }
 },
 "nbformat": 4,
 "nbformat_minor": 5
}
