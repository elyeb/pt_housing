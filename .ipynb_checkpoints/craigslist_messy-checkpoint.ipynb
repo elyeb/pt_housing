{
 "cells": [
  {
   "cell_type": "markdown",
   "id": "cb1e7df5",
   "metadata": {},
   "source": [
    "Explore Craigslist API\n",
    "- Described in [this link](https://www.redwoodtechnologysolutions.com/all-you-need-to-know-about-craigslists-bulk-posting-api/#:~:text=Craigslist%20has%20an%20application%20programming,of%20posting%20each%20item%20manually.)"
   ]
  }
 ],
 "metadata": {
  "kernelspec": {
   "display_name": "Python 3 (ipykernel)",
   "language": "python",
   "name": "python3"
  },
  "language_info": {
   "codemirror_mode": {
    "name": "ipython",
    "version": 3
   },
   "file_extension": ".py",
   "mimetype": "text/x-python",
   "name": "python",
   "nbconvert_exporter": "python",
   "pygments_lexer": "ipython3",
   "version": "3.9.0"
  }
 },
 "nbformat": 4,
 "nbformat_minor": 5
}
