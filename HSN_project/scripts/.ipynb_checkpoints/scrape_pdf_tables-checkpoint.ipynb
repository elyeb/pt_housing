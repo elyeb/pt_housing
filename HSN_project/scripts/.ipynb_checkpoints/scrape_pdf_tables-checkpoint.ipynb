{
 "cells": [
  {
   "cell_type": "code",
   "execution_count": null,
   "id": "2a969a42",
   "metadata": {
    "scrolled": true
   },
   "outputs": [],
   "source": [
    "!pip install tabula-py"
   ]
  },
  {
   "cell_type": "code",
   "execution_count": 1,
   "id": "f9f449f5",
   "metadata": {},
   "outputs": [],
   "source": [
    "import tabula\n",
    "import pandas as pd"
   ]
  },
  {
   "cell_type": "code",
   "execution_count": 2,
   "id": "0ca99c65",
   "metadata": {},
   "outputs": [
    {
     "name": "stdout",
     "output_type": "stream",
     "text": [
      "HSN_graphics.R           scrape_pdf_tables.ipynb\r\n"
     ]
    }
   ],
   "source": [
    "%ls"
   ]
  },
  {
   "cell_type": "code",
   "execution_count": 15,
   "id": "0557fe13",
   "metadata": {},
   "outputs": [],
   "source": [
    "file1 = \"Port Townsend - Legacy permits ADU in description.pdf\"\n",
    "file2 = \"Port Townsend ADU Permit Type.pdf\"\n"
   ]
  },
  {
   "cell_type": "code",
   "execution_count": 17,
   "id": "17921bf0",
   "metadata": {},
   "outputs": [],
   "source": [
    "list_of_tables_1 = []\n",
    "for i in range(1,11): #there are 10 pages in the first document \n",
    "    read_t = tabula.read_pdf(file1,pages=i)\n",
    "    list_of_tables_1.append(read_t)"
   ]
  },
  {
   "cell_type": "code",
   "execution_count": 29,
   "id": "3003d785",
   "metadata": {},
   "outputs": [],
   "source": [
    "list_of_tables_2 = []\n",
    "for i in range(1,6): #there are 5 pages in the second document \n",
    "    read_t = tabula.read_pdf(file2,pages=i)\n",
    "    list_of_tables_2.append(read_t)"
   ]
  },
  {
   "cell_type": "code",
   "execution_count": null,
   "id": "7f010d53",
   "metadata": {},
   "outputs": [],
   "source": [
    "t1_1 = tabula.read_pdf(file1,pages=1)"
   ]
  },
  {
   "cell_type": "markdown",
   "id": "ecfe23ac",
   "metadata": {},
   "source": [
    "If the permit field is empty (NaN), then the project description and site address actually belong to the last line of the previous page."
   ]
  },
  {
   "cell_type": "code",
   "execution_count": 68,
   "id": "a6446c79",
   "metadata": {},
   "outputs": [
    {
     "name": "stderr",
     "output_type": "stream",
     "text": [
      "/var/folders/w0/802yh79s18j0bn54dk09dm2m0000gn/T/ipykernel_13831/609485764.py:7: FutureWarning: iteritems is deprecated and will be removed in a future version. Use .items instead.\n",
      "  for (columnName, columnData) in list_of_tables_1[i][0].iteritems():\n"
     ]
    }
   ],
   "source": [
    "#If the permit field is empty (NaN), then the project description \n",
    "#and site address actually belong to the last line of the previous page (only affects pdf 1)\n",
    "for i in range(0,len(list_of_tables_1)):\n",
    "    if pd.isna(list_of_tables_1[i][0]['Permit #'].iloc[0]):\n",
    "        \n",
    "        # concatenant anything non-empty to the previous row \n",
    "        for (columnName, columnData) in list_of_tables_1[i][0].iteritems():\n",
    "            if not pd.isna(list_of_tables_1[i][0][columnName].iloc[0]):\n",
    "                prev_list = list_of_tables_1[i-1][0][columnName]\n",
    "                \n",
    "                update_cell = list_of_tables_1[i-1][0][columnName].iloc[len(prev_list)-1]+' '+list_of_tables_1[i][0][columnName].iloc[0]\n",
    "                \n",
    "                list_of_tables_1[i-1][0][columnName].iat[len(prev_list)-1] = update_cell\n",
    "        "
   ]
  },
  {
   "cell_type": "code",
   "execution_count": 83,
   "id": "6ece4690",
   "metadata": {},
   "outputs": [],
   "source": [
    "#combine tables from multiple pages for pdf1\n",
    "table1 = list_of_tables_1[0][0]\n",
    "\n",
    "for t in range(1,len(list_of_tables_1)):\n",
    "    table1 = pd.concat([table1,list_of_tables_1[t][0]],axis=0)"
   ]
  },
  {
   "cell_type": "code",
   "execution_count": 85,
   "id": "6bde3c68",
   "metadata": {},
   "outputs": [
    {
     "data": {
      "text/plain": [
       "(212, 7)"
      ]
     },
     "execution_count": 85,
     "metadata": {},
     "output_type": "execute_result"
    }
   ],
   "source": [
    "# Remove spillover rows\n",
    "table1 = table1[~pd.isna(table1['Permit #'])]\n",
    "table1.shape"
   ]
  },
  {
   "cell_type": "code",
   "execution_count": 86,
   "id": "80012a56",
   "metadata": {},
   "outputs": [
    {
     "data": {
      "text/plain": [
       "(135, 7)"
      ]
     },
     "execution_count": 86,
     "metadata": {},
     "output_type": "execute_result"
    }
   ],
   "source": [
    "#combine tables from multiple pages for pdf2\n",
    "table2 = list_of_tables_2[0][0]\n",
    "\n",
    "for t in range(1,len(list_of_tables_2)):\n",
    "    table2 = pd.concat([table2,list_of_tables_2[t][0]],axis=0)\n",
    "table2.shape"
   ]
  },
  {
   "cell_type": "code",
   "execution_count": 90,
   "id": "27926fa2",
   "metadata": {},
   "outputs": [
    {
     "data": {
      "text/plain": [
       "Index(['Permit #', 'Status', 'Project Description', 'Site Address',\n",
       "       'Submitted', 'Approved', 'Closed'],\n",
       "      dtype='object')"
      ]
     },
     "execution_count": 90,
     "metadata": {},
     "output_type": "execute_result"
    }
   ],
   "source": [
    "table2.columns"
   ]
  },
  {
   "cell_type": "code",
   "execution_count": 191,
   "id": "57796eee",
   "metadata": {},
   "outputs": [],
   "source": [
    "df = pd.concat([table1,table2])"
   ]
  },
  {
   "cell_type": "code",
   "execution_count": 186,
   "id": "4d8352dd",
   "metadata": {
    "collapsed": true
   },
   "outputs": [
    {
     "name": "stdout",
     "output_type": "stream",
     "text": [
      "FINALED\n",
      "FINALED\n",
      "FINALED\n",
      "DENIED\n",
      "FINALED\n",
      "FINALED\n",
      "FINALED\n",
      "FINALED\n",
      "FINALED\n",
      "FINALED\n",
      "FINALED\n",
      "FINALED\n",
      "ISSUED\n",
      "FINALED\n",
      "EXPIRED\n",
      "EXPIRED\n",
      "FINALED\n",
      "FINALED\n",
      "FINALED\n",
      "FINALED\n",
      "FINALED\n",
      "FINALED\n",
      "FINALED\n",
      "FINALED\n",
      "FINALED\n",
      "FINALED\n",
      "FINALED\n",
      "WITHDRAWN\n",
      "FINALED\n",
      "FINALED\n",
      "EXPIRED\n",
      "EXPIRED\n",
      "FINALED\n",
      "FINALED\n",
      "EXPIRED\n",
      "FINALED\n",
      "FINALED\n",
      "FINALED\n",
      "FINALED\n",
      "FINALED\n",
      "EXPIRED\n",
      "EXPIRED\n",
      "EXPIRED\n",
      "FINALED\n",
      "FINALED\n",
      "FINALED\n",
      "FINALED\n",
      "FINALED\n",
      "WITHDRAWN\n",
      "FINALED\n",
      "WITHDRAWN\n",
      "VOID\n",
      "FINALED\n",
      "FINALED\n",
      "FINALED\n",
      "FINALED\n",
      "FINALED\n",
      "FINALED\n",
      "FINALED\n",
      "FINALED\n",
      "FINALED\n",
      "WITHDRAWN\n",
      "FINALED\n",
      "FINALED\n",
      "FINALED\n",
      "FINALED\n",
      "FINALED\n",
      "FINALED\n",
      "FINALED\n",
      "FINALED\n",
      "FINALED\n",
      "FINALED\n",
      "FINALED\n",
      "FINALED\n",
      "FINALED\n",
      "FINALED\n",
      "FINALED\n",
      "FINALED\n",
      "FINALED\n",
      "EXPIRED\n",
      "FINALED\n",
      "EXPIRED\n",
      "FINALED\n",
      "FINALED\n",
      "EXPIRED\n",
      "FINALED\n",
      "FINALED\n",
      "FINALED\n",
      "EXPIRED\n",
      "FINALED\n",
      "FINALED\n",
      "FINALED\n",
      "FINALED\n",
      "FINALED\n",
      "FINALED\n",
      "FINALED\n",
      "FINALED\n",
      "FINALED\n",
      "EXPIRED\n",
      "EXPIRED\n",
      "FINALED\n",
      "FINALED\n",
      "FINALED\n",
      "EXPIRED\n",
      "FINALED\n",
      "FINALED\n",
      "FINALED\n",
      "FINALED\n",
      "EXPIRED\n",
      "FINALED\n",
      "FINALED\n",
      "COMPLETED\n",
      "FINALED\n",
      "FINALED\n",
      "FINALED\n",
      "FINALED\n",
      "FINALED\n",
      "FINALED\n",
      "FINALED\n",
      "FINALED\n",
      "FINALED\n",
      "FINALED\n",
      "FINALED\n",
      "EXPIRED\n",
      "FINALED\n",
      "FINALED\n",
      "FINALED\n",
      "FINALED\n",
      "FINALED\n",
      "FINALED\n",
      "FINALED\n",
      "FINALED\n",
      "FINALED\n",
      "FINALED\n",
      "FINALED\n",
      "FINALED\n",
      "EXPIRED\n",
      "FINALED\n",
      "FINALED\n",
      "FINALED\n",
      "FINALED\n",
      "FINALED\n",
      "FINALED\n",
      "FINALED\n",
      "COMPLETED\n",
      "EXPIRED\n",
      "EXPIRED\n",
      "FINALED\n",
      "COMPLETED\n",
      "COMPLETED\n",
      "FINALED\n",
      "FINALED\n",
      "FINALED\n",
      "FINALED\n",
      "FINALED\n",
      "FINALED\n",
      "COMPLETED\n",
      "COMPLETED\n",
      "COMPLETED\n",
      "COMPLETED\n",
      "COMPLETED\n",
      "COMPLETED\n",
      "INCOMPLETE\n",
      "FINALED\n",
      "FINALED\n",
      "FINALED\n",
      "COMPLETED\n",
      "FINALED\n",
      "COMPLETED\n",
      "COMPLETED\n",
      "FINALED\n",
      "FINALED\n",
      "COMPLETED\n",
      "FINALED\n",
      "FINALED\n",
      "FINALED\n",
      "FINALED\n",
      "FINALED\n",
      "COMPLETED\n",
      "FINALED\n",
      "COMPLETED\n",
      "COMPLETED\n",
      "FINALED\n",
      "FINALED\n",
      "FINALED\n",
      "COMPLETED\n",
      "FINALED\n",
      "FINALED\n",
      "FINALED\n",
      "FINALED\n",
      "WITHDRAWN\n",
      "COMPLETED\n",
      "COMPLETED\n",
      "COMPLETED\n",
      "FINALED\n",
      "FINALED\n",
      "FINALED\n",
      "FINALED\n",
      "COMPLETED\n",
      "FINALED\n",
      "FINALED\n",
      "EXPIRED\n",
      "FINALED\n",
      "WITHDRAWN\n",
      "COMPLETED\n",
      "COMPLETED\n",
      "FINALED\n",
      "FINALED\n",
      "FINALED\n",
      "COMPLETED\n",
      "FINALED\n",
      "COMPLETED\n",
      "SUBMITTED\n",
      "SUBMITTED\n",
      "ROUTED FOR REVIEW\n",
      "ROUTED FOR REVIEW\n",
      "WITHDRAWN\n",
      "ISSUED\n",
      "ISSUED\n",
      "ISSUED\n",
      "ISSUED\n",
      "ISSUED\n",
      "ISSUED\n",
      "ROUTED FOR REVIEW\n",
      "ISSUED\n",
      "EXPIRED\n",
      "ISSUED\n",
      "EXPIRED\n",
      "ISSUED\n",
      "ISSUED\n",
      "CLOSED\n",
      "CLOSED\n",
      "ISSUED\n",
      "ISSUED\n",
      "FINALED\n",
      "ISSUED\n",
      "CLOSED\n",
      "ISSUED\n",
      "ISSUED\n",
      "ISSUED\n",
      "FINALED\n",
      "EXPIRED\n",
      "FINALED\n",
      "CANCELLED\n",
      "ISSUED\n",
      "FINALED\n",
      "FINALED\n",
      "FINALED\n",
      "FINALED\n",
      "FINALED\n",
      "FINALED\n",
      "FINALED\n",
      "FINALED\n",
      "FINALED\n",
      "EXPIRED\n",
      "CANCELLED\n",
      "FINALED\n",
      "FINALED\n",
      "FINALED\n",
      "FINALED\n",
      "FINALED\n",
      "FINALED\n",
      "FINALED\n",
      "CANCELLED\n",
      "FINALED\n",
      "FINALED\n",
      "WITHDRAWN\n",
      "FINALED\n",
      "FINALED\n",
      "FINALED\n",
      "FINALED\n",
      "FINALED\n",
      "CANCELLED\n",
      "FINALED\n",
      "WITHDRAWN\n",
      "FINALED\n",
      "FINALED\n",
      "WITHDRAWN\n",
      "FINALED\n",
      "FINALED\n",
      "FINALED\n",
      "CANCELLED\n",
      "WITHDRAWN\n",
      "FINALED\n",
      "FINALED\n",
      "FINALED\n",
      "FINALED\n",
      "FINALED\n",
      "EXPIRED\n",
      "FINALED\n",
      "FINALED\n",
      "FINALED\n",
      "FINALED\n",
      "WITHDRAWN\n",
      "FINALED\n",
      "EXPIRED\n",
      "FINALED\n",
      "FINALED\n",
      "FINALED\n",
      "FINALED\n",
      "FINALED\n",
      "FINALED\n",
      "FINALED\n",
      "FINALED\n",
      "FINALED\n",
      "FINALED\n",
      "FINALED\n",
      "FINALED\n",
      "FINALED\n",
      "FINALED\n",
      "FINALED\n",
      "EXPIRED\n",
      "FINALED\n",
      "FINALED\n",
      "FINALED\n",
      "FINALED\n",
      "FINALED\n",
      "FINALED\n",
      "FINALED\n",
      "APPROVED\n",
      "FINALED\n",
      "FINALED\n",
      "TECHNICALLY\r",
      "COMPLETE\n",
      "ISSUED\n",
      "ISSUED\n",
      "FINALED\n",
      "ISSUED\n",
      "FINALED\n",
      "FINALED\n",
      "FINALED\n",
      "WITHDRAWN\n",
      "FINALED\n",
      "WITHDRAWN\n",
      "FINALED\n",
      "FINALED\n",
      "FINALED\n",
      "FINALED\n",
      "FINALED\n",
      "FINALED\n",
      "FINALED\n",
      "FINALED\n",
      "FINALED\n",
      "EXPIRED\n",
      "FINALED\n",
      "DELETED\n",
      "FINALED\n",
      "FINALED\n"
     ]
    }
   ],
   "source": [
    "for item in df['Status']:\n",
    "    print(item)"
   ]
  },
  {
   "cell_type": "code",
   "execution_count": 192,
   "id": "50dea720",
   "metadata": {},
   "outputs": [],
   "source": [
    "# format and clean columns\n",
    "df['Permit #'] = df['Permit #'].astype(str)\n",
    "df['Status'] = df['Status'].astype(str)\n",
    "df['Project Description'] = df['Project Description'].astype(str)\n",
    "df['Site Address'] = df['Site Address'].astype(str)\n",
    "df['Submitted'] = pd.to_datetime(df['Submitted'])\n",
    "df['Approved'] = pd.to_datetime(df['Approved'])\n",
    "df['Closed'] = pd.to_datetime(df['Closed'])"
   ]
  },
  {
   "cell_type": "code",
   "execution_count": 193,
   "id": "3558cb02",
   "metadata": {},
   "outputs": [],
   "source": [
    "# carriage returns mess up table when exporting to Excel\n",
    "df['Permit #'] = df['Permit #'].str.replace('\\r','')\n",
    "df['Status'] = df['Status'].str.replace('\\r',' ')\n",
    "df['Project Description'] = df['Project Description'].str.replace('\\r',' ')\n",
    "df['Site Address'] = df['Site Address'].str.replace('\\r',' ')"
   ]
  },
  {
   "cell_type": "code",
   "execution_count": 197,
   "id": "a4780eaa",
   "metadata": {},
   "outputs": [],
   "source": [
    "df = df.sort_values(by='Submitted',ascending=True)"
   ]
  },
  {
   "cell_type": "code",
   "execution_count": 199,
   "id": "fa5922bb",
   "metadata": {},
   "outputs": [
    {
     "data": {
      "text/html": [
       "<div>\n",
       "<style scoped>\n",
       "    .dataframe tbody tr th:only-of-type {\n",
       "        vertical-align: middle;\n",
       "    }\n",
       "\n",
       "    .dataframe tbody tr th {\n",
       "        vertical-align: top;\n",
       "    }\n",
       "\n",
       "    .dataframe thead th {\n",
       "        text-align: right;\n",
       "    }\n",
       "</style>\n",
       "<table border=\"1\" class=\"dataframe\">\n",
       "  <thead>\n",
       "    <tr style=\"text-align: right;\">\n",
       "      <th></th>\n",
       "      <th>Permit #</th>\n",
       "      <th>Status</th>\n",
       "      <th>Project Description</th>\n",
       "      <th>Site Address</th>\n",
       "      <th>Submitted</th>\n",
       "      <th>Approved</th>\n",
       "      <th>Closed</th>\n",
       "    </tr>\n",
       "  </thead>\n",
       "  <tbody>\n",
       "    <tr>\n",
       "      <th>16</th>\n",
       "      <td>BLD9203-28</td>\n",
       "      <td>COMPLETED</td>\n",
       "      <td>SFR and ADU 4762</td>\n",
       "      <td>4760 BELL ST</td>\n",
       "      <td>1992-03-04</td>\n",
       "      <td>NaT</td>\n",
       "      <td>NaT</td>\n",
       "    </tr>\n",
       "    <tr>\n",
       "      <th>15</th>\n",
       "      <td>BLD9509-11</td>\n",
       "      <td>FINALED</td>\n",
       "      <td>Residential - expand home and build garage. AD...</td>\n",
       "      <td>409 22ND ST</td>\n",
       "      <td>1995-09-26</td>\n",
       "      <td>NaT</td>\n",
       "      <td>2000-10-31</td>\n",
       "    </tr>\n",
       "    <tr>\n",
       "      <th>14</th>\n",
       "      <td>BLD9512-18</td>\n",
       "      <td>COMPLETED</td>\n",
       "      <td>Remodel outbuilding to ADU; setbacks are exist...</td>\n",
       "      <td>606 ROOSEVELT ST</td>\n",
       "      <td>1995-12-01</td>\n",
       "      <td>NaT</td>\n",
       "      <td>NaT</td>\n",
       "    </tr>\n",
       "    <tr>\n",
       "      <th>13</th>\n",
       "      <td>BLD96-00039</td>\n",
       "      <td>FINALED</td>\n",
       "      <td>Build garage with ADU over</td>\n",
       "      <td>613 ROSE ST</td>\n",
       "      <td>1996-03-27</td>\n",
       "      <td>NaT</td>\n",
       "      <td>1996-08-05</td>\n",
       "    </tr>\n",
       "    <tr>\n",
       "      <th>12</th>\n",
       "      <td>BLD96-00082</td>\n",
       "      <td>FINALED</td>\n",
       "      <td>Construct accessory dwelling unit (ADU)</td>\n",
       "      <td>776 MADISON</td>\n",
       "      <td>1996-06-21</td>\n",
       "      <td>NaT</td>\n",
       "      <td>1996-11-08</td>\n",
       "    </tr>\n",
       "  </tbody>\n",
       "</table>\n",
       "</div>"
      ],
      "text/plain": [
       "       Permit #     Status                                Project Description  \\\n",
       "16   BLD9203-28  COMPLETED                                   SFR and ADU 4762   \n",
       "15   BLD9509-11    FINALED  Residential - expand home and build garage. AD...   \n",
       "14   BLD9512-18  COMPLETED  Remodel outbuilding to ADU; setbacks are exist...   \n",
       "13  BLD96-00039    FINALED                         Build garage with ADU over   \n",
       "12  BLD96-00082    FINALED            Construct accessory dwelling unit (ADU)   \n",
       "\n",
       "        Site Address  Submitted Approved     Closed  \n",
       "16      4760 BELL ST 1992-03-04      NaT        NaT  \n",
       "15       409 22ND ST 1995-09-26      NaT 2000-10-31  \n",
       "14  606 ROOSEVELT ST 1995-12-01      NaT        NaT  \n",
       "13       613 ROSE ST 1996-03-27      NaT 1996-08-05  \n",
       "12       776 MADISON 1996-06-21      NaT 1996-11-08  "
      ]
     },
     "execution_count": 199,
     "metadata": {},
     "output_type": "execute_result"
    }
   ],
   "source": [
    "df.head()"
   ]
  },
  {
   "cell_type": "code",
   "execution_count": 200,
   "id": "5cda0293",
   "metadata": {},
   "outputs": [
    {
     "data": {
      "text/plain": [
       "(347, 7)"
      ]
     },
     "execution_count": 200,
     "metadata": {},
     "output_type": "execute_result"
    }
   ],
   "source": [
    "df.shape"
   ]
  },
  {
   "cell_type": "code",
   "execution_count": 204,
   "id": "372cae1f",
   "metadata": {},
   "outputs": [
    {
     "data": {
      "text/plain": [
       "347"
      ]
     },
     "execution_count": 204,
     "metadata": {},
     "output_type": "execute_result"
    }
   ],
   "source": [
    "#check for duplicates\n",
    "len(df['Site Address'].drop_duplicates()) #325\n",
    "len(df['Permit #'].drop_duplicates()) #347 - some addresses with >1 permits"
   ]
  },
  {
   "cell_type": "code",
   "execution_count": 198,
   "id": "ff4e3bac",
   "metadata": {},
   "outputs": [],
   "source": [
    "with open('Combined_ADU_Permits.csv','w') as outfile:\n",
    "    df.to_csv(outfile,index=False)"
   ]
  }
 ],
 "metadata": {
  "kernelspec": {
   "display_name": "Python 3 (ipykernel)",
   "language": "python",
   "name": "python3"
  },
  "language_info": {
   "codemirror_mode": {
    "name": "ipython",
    "version": 3
   },
   "file_extension": ".py",
   "mimetype": "text/x-python",
   "name": "python",
   "nbconvert_exporter": "python",
   "pygments_lexer": "ipython3",
   "version": "3.9.0"
  }
 },
 "nbformat": 4,
 "nbformat_minor": 5
}
