{
 "cells": [
  {
   "cell_type": "markdown",
   "id": "5ae23c8e",
   "metadata": {},
   "source": [
    "This script was completed as a volunteer project during the DEI Day of Reflection and Community Service on Jul 7, 2023. I volunteered for a local (Port Townsend) housing advocacy group, the [Housing Solutions Network](https://housingsolutionsnetwork.org/), who, among other things, promote building ADUs (Accessible Dwelling Units) within city limits in order to increase low-rent options in town. They asked me to extract data on building permits found in public county records and create visuals.\n",
    "\n",
    "Author: Elye Bliss <br>\n",
    "Date: Jul 7, 2023"
   ]
  },
  {
   "cell_type": "markdown",
   "id": "8b017213",
   "metadata": {},
   "source": [
    "#### Task 1: Covert messy PDFs of records into data frame and export to .csv"
   ]
  },
  {
   "cell_type": "code",
   "execution_count": null,
   "id": "44aa39d8",
   "metadata": {},
   "outputs": [],
   "source": [
    "!pip install tabula-py\n",
    "!pip install geopy\n",
    "!pip install folium"
   ]
  },
  {
   "cell_type": "code",
   "execution_count": null,
   "id": "2245559e",
   "metadata": {},
   "outputs": [],
   "source": [
    "import tabula #package used to extract tables from PDFs\n",
    "import pandas as pd\n",
    "import os\n",
    "import re\n",
    "from collections import Counter"
   ]
  },
  {
   "cell_type": "markdown",
   "id": "f1ea26bf",
   "metadata": {},
   "source": [
    "Two PDFs of tabled records were provided: \"One being all the permits filed digitally, and the other \n",
    "being digitized versions of paper permits filed before the digital system existed.\""
   ]
  },
  {
   "cell_type": "code",
   "execution_count": 342,
   "id": "91d8ba2e",
   "metadata": {},
   "outputs": [
    {
     "data": {
      "text/html": [
       "<div>\n",
       "<style scoped>\n",
       "    .dataframe tbody tr th:only-of-type {\n",
       "        vertical-align: middle;\n",
       "    }\n",
       "\n",
       "    .dataframe tbody tr th {\n",
       "        vertical-align: top;\n",
       "    }\n",
       "\n",
       "    .dataframe thead th {\n",
       "        text-align: right;\n",
       "    }\n",
       "</style>\n",
       "<table border=\"1\" class=\"dataframe\">\n",
       "  <thead>\n",
       "    <tr style=\"text-align: right;\">\n",
       "      <th></th>\n",
       "      <th>Permit #</th>\n",
       "      <th>Status</th>\n",
       "      <th>Project Description</th>\n",
       "      <th>Site Address</th>\n",
       "      <th>Submitted</th>\n",
       "      <th>Approved</th>\n",
       "      <th>Closed</th>\n",
       "    </tr>\n",
       "  </thead>\n",
       "  <tbody>\n",
       "    <tr>\n",
       "      <th>0</th>\n",
       "      <td>BLD06-240</td>\n",
       "      <td>FINALED</td>\n",
       "      <td>Construct 648 sq.ft. ADU on lot with existing ...</td>\n",
       "      <td>1417 OLYMPIC\\rAVE</td>\n",
       "      <td>12/26/2006</td>\n",
       "      <td>12/26/2006</td>\n",
       "      <td>01/29/2008</td>\n",
       "    </tr>\n",
       "    <tr>\n",
       "      <th>1</th>\n",
       "      <td>BLD06-\\r157R-2</td>\n",
       "      <td>FINALED</td>\n",
       "      <td>Revised foundation plans. Construction of a tr...</td>\n",
       "      <td>411, 415, 423, 429\\rMONROE ST</td>\n",
       "      <td>12/19/2006</td>\n",
       "      <td>12/19/2006</td>\n",
       "      <td>03/18/2009</td>\n",
       "    </tr>\n",
       "    <tr>\n",
       "      <th>2</th>\n",
       "      <td>BLD04-\\r003R-1</td>\n",
       "      <td>FINALED</td>\n",
       "      <td>Change garage originally permitted into an ADU</td>\n",
       "      <td>1709 SHERIDAN\\rST</td>\n",
       "      <td>12/19/2006</td>\n",
       "      <td>12/19/2006</td>\n",
       "      <td>02/16/2010</td>\n",
       "    </tr>\n",
       "  </tbody>\n",
       "</table>\n",
       "</div>"
      ],
      "text/plain": [
       "         Permit #   Status                                Project Description  \\\n",
       "0       BLD06-240  FINALED  Construct 648 sq.ft. ADU on lot with existing ...   \n",
       "1  BLD06-\\r157R-2  FINALED  Revised foundation plans. Construction of a tr...   \n",
       "2  BLD04-\\r003R-1  FINALED     Change garage originally permitted into an ADU   \n",
       "\n",
       "                    Site Address   Submitted    Approved      Closed  \n",
       "0              1417 OLYMPIC\\rAVE  12/26/2006  12/26/2006  01/29/2008  \n",
       "1  411, 415, 423, 429\\rMONROE ST  12/19/2006  12/19/2006  03/18/2009  \n",
       "2              1709 SHERIDAN\\rST  12/19/2006  12/19/2006  02/16/2010  "
      ]
     },
     "execution_count": 342,
     "metadata": {},
     "output_type": "execute_result"
    }
   ],
   "source": [
    "data_path = '~/Desktop/Housing/HSN/pt_housing/HSN_project/data/'\n",
    "file1 = data_path+\"Port Townsend - Legacy permits ADU in description.pdf\"  \n",
    "file2 = data_path+\"Port Townsend ADU Permit Type.pdf\" \n",
    "\n",
    "list_of_tables_1 = [tabula.read_pdf(file1,pages=i) for i in range(1,11)] #there are 10 pages in the first document\n",
    "list_of_tables_2 = [tabula.read_pdf(file2,pages=i) for i in range(1,6)] #there are 5 pages in the second document \n",
    "\n",
    "# Preview\n",
    "pd.DataFrame(list_of_tables_1[0][0]).head(3)"
   ]
  },
  {
   "cell_type": "markdown",
   "id": "e87fb631",
   "metadata": {},
   "source": [
    "Note: If the permit field is empty (NaN) at the start of a page, then the project description and site address actually belong to the cell of the last line of the previous page (this only seems to affect pdf 1)"
   ]
  },
  {
   "cell_type": "code",
   "execution_count": 343,
   "id": "6e250442",
   "metadata": {},
   "outputs": [
    {
     "name": "stdout",
     "output_type": "stream",
     "text": [
      "Variable names: Index(['Permit #', 'Status', 'Project Description', 'Site Address',\n",
      "       'Submitted', 'Approved', 'Closed'],\n",
      "      dtype='object')\n",
      "Table has 212 rows of 7 cols\n"
     ]
    }
   ],
   "source": [
    "# Clean overflow cells:\n",
    "for i in range(0,len(list_of_tables_1)):\n",
    "    if pd.isna(list_of_tables_1[i][0]['Permit #'].iloc[0]):\n",
    "        \n",
    "        # concatenant anything non-empty to the previous row, across columns\n",
    "        for (columnName, columnData) in list_of_tables_1[i][0].items():\n",
    "            if not pd.isna(list_of_tables_1[i][0][columnName].iloc[0]):\n",
    "                prev_list = list_of_tables_1[i-1][0][columnName]               \n",
    "                update_cell = list_of_tables_1[i-1][0][columnName].iloc[len(prev_list)-1]+\\\n",
    "                ' '+list_of_tables_1[i][0][columnName].iloc[0]\n",
    "                list_of_tables_1[i-1][0][columnName].iat[len(prev_list)-1] = update_cell\n",
    "                \n",
    "#combine tables from multiple pages for pdf1\n",
    "table1 = pd.concat([list_of_tables_1[t][0] for t in range(0,len(list_of_tables_1))],axis=0)\n",
    "\n",
    "# Remove spillover rows\n",
    "table1 = table1[~pd.isna(table1['Permit #'])]\n",
    "\n",
    "print(f'Variable names: {table1.columns}')\n",
    "print(f'Table has {table1.shape[0]} rows of {table1.shape[1]} cols')"
   ]
  },
  {
   "cell_type": "code",
   "execution_count": 344,
   "id": "772f22ce",
   "metadata": {},
   "outputs": [
    {
     "data": {
      "text/plain": [
       "Permit #               object\n",
       "Status                 object\n",
       "Project Description    object\n",
       "Site Address           object\n",
       "Submitted              object\n",
       "Approved               object\n",
       "Closed                 object\n",
       "dtype: object"
      ]
     },
     "execution_count": 344,
     "metadata": {},
     "output_type": "execute_result"
    }
   ],
   "source": [
    "# combine tables from multiple pages for pdf2\n",
    "table2 = pd.concat([list_of_tables_2[t][0] for t in range(0,len(list_of_tables_2))],axis=0)\n",
    "\n",
    "# combine full data frame\n",
    "df = pd.concat([table1,table2])\n",
    "\n",
    "# format and clean columns\n",
    "df.dtypes"
   ]
  },
  {
   "cell_type": "code",
   "execution_count": 345,
   "id": "c5f9ae10",
   "metadata": {},
   "outputs": [],
   "source": [
    "# modify data types\n",
    "df[['Permit #','Status',\\\n",
    "   'Project Description','Site Address']] = df[['Permit #','Status',\\\n",
    "                                                'Project Description','Site Address']].astype(str)\n",
    "\n",
    "df[['Submitted','Approved','Closed']] = df[['Submitted','Approved','Closed']].apply(pd.to_datetime)\n",
    "\n",
    "# remove carriage returns, which mess up table when exporting to Excel\n",
    "# carriage returns mess up table when exporting to Excel\n",
    "\n",
    "df['Permit #'] = df['Permit #'].replace('\\r','',regex=True) # no space added\n",
    "replace_cols = ['Status','Project Description','Site Address']\n",
    "df[replace_cols] = df[replace_cols].replace('\\r',' ',regex=True)\n",
    "\n",
    "# rename columns\n",
    "new_cols = ['permit_no','status','description','address','date_submitted','date_approved','date_closed']\n",
    "df = df.set_axis(new_cols, axis=1)\n",
    "\n",
    "# sort chronologically\n",
    "df = df.sort_values(by='date_submitted',ascending=True)"
   ]
  },
  {
   "cell_type": "code",
   "execution_count": null,
   "id": "bf0c23c1",
   "metadata": {},
   "outputs": [],
   "source": [
    "# clean addresses, e.g. \"1810 (SFR) & 1812 (ADU) CHERRY ST\"\n",
    "\n",
    "def clean_address(address:str) -> str:\n",
    "    \"\"\"\n",
    "    Function to return single most likely address from the site address column. \n",
    "    Rules: \n",
    "        -If a normally-looking address is found, return as-is\n",
    "        -Otherwise, cut off anything that appears after 'ACCESSORY TO'\n",
    "        -Split multiple units on \"&\", or \"-\"\n",
    "        -Prioritize whichever remaining segment might have (ADU) noted\n",
    "        -Remove anything in parentheses\n",
    "        -Add street name back in if not found\n",
    "        \n",
    "    Args:\n",
    "        address: a single address string\n",
    "        \n",
    "    Returns:\n",
    "        address_clean: a cleaned, single address\n",
    "    \"\"\"\n",
    "    # check if address is already standard:\n",
    "    normal_pattern = re.compile('(\\d+\\s\\S+\\sST|\\d+\\s\\S+\\sSTREET|\\d+\\s\\S+\\sBLVD|\\d+\\s\\S+\\sPL|\\d+\\s\\S+\\sLANE|\\d+\\s\\S+\\sRD|\\d+\\s\\S+\\sAVE)')\n",
    "    \n",
    "    if len(normal_pattern.findall(address))==1:\n",
    "        \n",
    "        address_clean = normal_pattern.findall(address)[0]\n",
    "        # Add city info\n",
    "        address_clean = address_clean+', PORT TOWNSEND, WA, 98368'\n",
    "        return address_clean\n",
    "    \n",
    "    elif address=='UNKNOWN':\n",
    "        return None\n",
    "    \n",
    "    else:\n",
    "        \n",
    "        try:\n",
    "    \n",
    "            # Get street name if something like 'ST' is indicated (or end of string)\n",
    "            st_pattern = re.compile('(\\S+\\sST|\\S+\\sSTREET|\\S+\\sBLVD|\\S+\\sPL|\\S+\\sLANE|\\S+\\sRD|\\S+\\sAVE|\\S+\\s{1}\\S+$)')\n",
    "            street_name = st_pattern.findall(address)[0]\n",
    "\n",
    "            # cut off anything after 'ACCESSORY TO'. What follows would be a house address.\n",
    "            address_clean = re.sub('ACCESSORY TO.*$','',address)\n",
    "\n",
    "            # split str if multiple are listed\n",
    "            multiple_addresses = re.split('&|-|(?<=\\))\\s',address_clean)\n",
    "\n",
    "            # First prioritize whichever address might have (ADU) noted, and then whichever might have a street\n",
    "            matches = [re.findall('.*\\(ADU\\)',segment) for segment in multiple_addresses]\n",
    "            matches = [m for m in matches if len(m)>0]\n",
    "            if len(matches)>0:\n",
    "                address_clean = matches[0][0]\n",
    "            else:\n",
    "                address_clean = re.sub('&|-','',address)\n",
    "\n",
    "            # remove any parenthesis and contents\n",
    "            pattern = re.compile('\\(.*?\\)')\n",
    "            address_clean = re.sub(pattern,'',address_clean)\n",
    "\n",
    "            # add street name back in if it was cut off\n",
    "            if not street_name in address_clean:\n",
    "                address_clean = re.findall('\\d+',address_clean)[0]+ ' '+street_name\n",
    "\n",
    "            # Add city info\n",
    "            address_clean = address_clean+', PORT TOWNSEND, WA, 98368'\n",
    "\n",
    "            return address_clean\n",
    "        \n",
    "        except:\n",
    "            print(f'{address} not found')\n",
    "            return None"
   ]
  },
  {
   "cell_type": "code",
   "execution_count": null,
   "id": "3643c00f",
   "metadata": {},
   "outputs": [],
   "source": [
    "df['address_clean'] = df['address'].apply(clean_address)\n",
    "\n",
    "# preview\n",
    "df.tail(5)"
   ]
  },
  {
   "cell_type": "code",
   "execution_count": null,
   "id": "377a072f",
   "metadata": {},
   "outputs": [],
   "source": [
    "with open('Combined_ADU_Permits.csv','w') as outfile:\n",
    "    df.to_csv(outfile,index=False)"
   ]
  },
  {
   "cell_type": "markdown",
   "id": "10488fdb",
   "metadata": {},
   "source": [
    "#### Task 2: visualize data"
   ]
  },
  {
   "cell_type": "markdown",
   "id": "11a5ac12",
   "metadata": {},
   "source": [
    "##### Step 1: map locations of ADUs in town"
   ]
  },
  {
   "cell_type": "code",
   "execution_count": null,
   "id": "e3f75ca4",
   "metadata": {},
   "outputs": [],
   "source": [
    "from geopy.geocoders import Nominatim # used to look up coordinates\n",
    "import folium # used to make interactive map\n",
    "from geopy.extra.rate_limiter import RateLimiter\n",
    "\n",
    "# initialize Nominatim\n",
    "geolocator = Nominatim(user_agent=\"test_app\")\n",
    "\n",
    "# borrow code from https://geopy.readthedocs.io/en/stable/#usage-with-pandas\n",
    "geocode = RateLimiter(geolocator.geocode, min_delay_seconds=1)\n",
    "df['location'] = df['address_clean'].apply(geocode)\n",
    "df['point'] = df['location'].apply(lambda loc: tuple(loc.point) if loc else None)\n",
    "\n",
    "df.head(3)"
   ]
  },
  {
   "cell_type": "code",
   "execution_count": null,
   "id": "16b49d10",
   "metadata": {},
   "outputs": [],
   "source": [
    "print(f'{len(df[df['point'].isnull()])} addresses not found')\n",
    "\n",
    "map_df = df[~df['point'].isnull()]\n",
    "print(f'{len(map_df)} addresses remain')"
   ]
  },
  {
   "cell_type": "code",
   "execution_count": null,
   "id": "1eb0da7b",
   "metadata": {},
   "outputs": [],
   "source": [
    "# initialize map with first location\n",
    "pt_map = folium.Map(location=(map_df['point'].iloc[0][0],\\\n",
    "                              map_df['point'].iloc[0][1]),\\\n",
    "                    zoom_start=12.4)\n",
    "                    \n",
    "for index, row in map_df.iterrows():\n",
    "    folium.CircleMarker(location=(row['point'][0],row['point'][1]),\n",
    "                               radius=3,    \n",
    "                               color='red',\n",
    "                               fill_color ='pink',\n",
    "                               fill_opacity=0.5,\n",
    "                              ).add_to(pt_map)\n",
    "pt_map"
   ]
  },
  {
   "cell_type": "markdown",
   "id": "f580592c",
   "metadata": {},
   "source": [
    "##### Step 2: plot histogram over time"
   ]
  },
  {
   "cell_type": "code",
   "execution_count": null,
   "id": "8abe964b",
   "metadata": {},
   "outputs": [],
   "source": [
    "import matplotlib.pyplot as plt"
   ]
  },
  {
   "cell_type": "code",
   "execution_count": null,
   "id": "91a83929",
   "metadata": {},
   "outputs": [],
   "source": [
    "# get year from `date_submitted`\n",
    "\n",
    "# plot years as x-axis, and number of ADUs submitted as y-axis\n",
    "year_counts = [date.year for date in df.date_submitted]\n",
    "years=[]\n",
    "no_submitted=[]\n",
    "for y in Counter(year_counts):\n",
    "    years.append(y)\n",
    "    no_submitted.append(Counter(year_counts)[y])\n",
    "    \n",
    "# plot results\n",
    "plt.bar(years, no_submitted)\n",
    "\n",
    "plt.xlabel('Year')\n",
    "plt.ylabel('No. submitted')\n",
    "plt.title('Number of ADU permits submitted per year')"
   ]
  },
  {
   "cell_type": "markdown",
   "id": "3e3367a4",
   "metadata": {},
   "source": [
    "##### Step 3: plot average time to approval by year"
   ]
  },
  {
   "cell_type": "code",
   "execution_count": null,
   "id": "41f9cbd7",
   "metadata": {},
   "outputs": [],
   "source": [
    "# only consider ADUs actually approved and not denied/pending\n",
    "approved = df[~df['date_approved'].isnull()]\n",
    "\n",
    "# calculate time difference between submitted and approved\n",
    "approved['time_to_approval'] = approved['date_approved']-approved['date_submitted']\n",
    "\n",
    "approved = approved[approved['time_to_approval'].astype('int')>0] # one negative value found\n",
    "\n",
    "# sort chronologically\n",
    "approved = approved.sort_values(by='date_approved',ascending=True)\n",
    "\n",
    "# get year\n",
    "approved['year'] = approved['date_approved'].dt.strftime('%Y')\n",
    "\n",
    "# convert time to approval to integer of no. days\n",
    "approved['time_to_approval'] = approved['time_to_approval'].astype('timedelta64[D]')\n",
    "approved['time_to_approval'] = approved['time_to_approval'].astype('int')\n",
    "\n",
    "# make new series/df\n",
    "avg_per_year = approved.groupby('year')['time_to_approval'].mean()\n",
    "avg_per_year = avg_per_year.to_frame().reset_index()\n",
    "\n",
    "# plot results\n",
    "plt.bar(avg_per_year['year'], avg_per_year['time_to_approval'])\n",
    "plt.xlabel('Year')\n",
    "plt.ylabel('Avg days')\n",
    "plt.title('Yearly average days till approval')\n",
    "plt.xticks(rotation=90)\n",
    "plt.show()"
   ]
  },
  {
   "cell_type": "markdown",
   "id": "fd3046e7",
   "metadata": {},
   "source": [
    "#### Conclusions\n",
    "- The largest boom in ADU building happened before the 2008 financial crisis.\n",
    "- The average time to approval looks pretty correlated with number of permit applications submitted for a given year.\n",
    "- The distribution of ADU permits looks pretty evenly distributed across town, with no obvious concentration in a particular neighborhood."
   ]
  }
 ],
 "metadata": {
  "kernelspec": {
   "display_name": "Python 3 (ipykernel)",
   "language": "python",
   "name": "python3"
  },
  "language_info": {
   "codemirror_mode": {
    "name": "ipython",
    "version": 3
   },
   "file_extension": ".py",
   "mimetype": "text/x-python",
   "name": "python",
   "nbconvert_exporter": "python",
   "pygments_lexer": "ipython3",
   "version": "3.9.0"
  }
 },
 "nbformat": 4,
 "nbformat_minor": 5
}
